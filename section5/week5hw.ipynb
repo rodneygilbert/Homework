{
 "cells": [
  {
   "attachments": {},
   "cell_type": "markdown",
   "metadata": {},
   "source": [
    "What does Pandas stand for?\n",
    "<!-- A: python data analysis -->\n",
    "What are the 2 collections used in Pandas?\n",
    "<!-- A: DataFrames and Series -->\n",
    "Name 4 things Pandas can do for us.\n",
    "<!-- A: Data cleansing, Data normalization, Data Visualization, Data inspection   -->\n",
    "To permanently sort a DataFrame, which keyword should one use with the df.sort() method?\n",
    "What is a CSV\n",
    "<!-- A: a comma separated file -->\n",
    "When cleaning data what values do we not like in our data?\n",
    "<!-- A: duplicates, null values -->"
   ]
  },
  {
   "cell_type": "code",
   "execution_count": 1,
   "metadata": {},
   "outputs": [
    {
     "name": "stdout",
     "output_type": "stream",
     "text": [
      "a1 ...\n",
      " [2 3 2]\n"
     ]
    }
   ],
   "source": [
    "import numpy as np\n",
    "a1 = np.array([2, 3, 2])\n",
    "print(\"a1 ...\\n\", a1)"
   ]
  },
  {
   "cell_type": "code",
   "execution_count": 14,
   "metadata": {},
   "outputs": [
    {
     "name": "stdout",
     "output_type": "stream",
     "text": [
      "[ 0.  4.  8. 12. 16. 20.]\n",
      "[ 0.  4.  8. 12. 16. 20.]\n",
      "[ 0.  4.  8. 12. 16. 20.]\n"
     ]
    }
   ],
   "source": [
    "import numpy as np\n",
    "array = np.linspace(0, 20,  num=6)\n",
    "print(array)\n",
    "new_array = np.copy(array)\n",
    "# print(new_array)\n",
    "array1 = new_array.__deepcopy__(array)\n",
    "print(array1) \n",
    "\n"
   ]
  },
  {
   "cell_type": "code",
   "execution_count": 15,
   "metadata": {},
   "outputs": [
    {
     "name": "stdout",
     "output_type": "stream",
     "text": [
      "[0.568 0.059 0.24  0.333]\n"
     ]
    }
   ],
   "source": [
    "# Using NumPy, 'broadcast' the multiplication of the following 2 arrays below to a 2-D array using the newaxis parameter ...\n",
    "from numpy import array, newaxis\n",
    "# create variables to store the array\n",
    "a = array ([0.71, 0.1, 0.24, 0.3])\n",
    "b = array([0.8, 0.59, 1.0, 1.11])\n",
    "print(a * b)"
   ]
  },
  {
   "cell_type": "code",
   "execution_count": 23,
   "metadata": {},
   "outputs": [
    {
     "name": "stdout",
     "output_type": "stream",
     "text": [
      "[[25 16]\n",
      " [11  2]\n",
      " [13  4]\n",
      " [ 7 81]\n",
      " [ 5  6]\n",
      " [11 12]]\n",
      "\n",
      "sortedArry...\n",
      " [[16 25]\n",
      " [ 2 11]\n",
      " [ 4 13]\n",
      " [ 7 81]\n",
      " [ 5  6]\n",
      " [11 12]]\n",
      "\n",
      "reshapedArray...\n",
      " [[[16 25  2]\n",
      "  [11  4 13]]\n",
      "\n",
      " [[ 7 81  5]\n",
      "  [ 6 11 12]]]\n",
      "a =  [[16 25  2]\n",
      " [11  4 13]]\n",
      "b =  [[ 7 81  5]\n",
      " [ 6 11 12]]\n",
      "c =  [[16 25  2]\n",
      " [11  4 13]]\n",
      "d =  [[ 7 81  5]\n",
      " [ 6 11 12]]\n"
     ]
    }
   ],
   "source": [
    "# Concatenate these 3 arrays into a new array named 'newArray'...\n",
    "import numpy as np\n",
    "# create 3 different variable to store arrays\n",
    "a_1 = np.array([[25 ,16]])\n",
    "a_2 = np.array([[11, 2], [13, 4]])\n",
    "a_3 = np.array([[7, 81], [5,6], [11, 12]])\n",
    "# concatenate the 3 variables\n",
    "arraycombo = np.concatenate((a_1, a_2, a_3))\n",
    "print(arraycombo)\n",
    "# Sort 'newArray' in order into 'sortedArray'\n",
    "sortedArray = np.sort(arraycombo)\n",
    "print(\"\\nsortedArry...\\n\", sortedArray)\n",
    "# Reshape the 'sortedArray' array, into a new array called 'reshapedArray', so it has 2 dimensions with a size of 2, 3.\n",
    "reshapedArray = np.reshape(sortedArray, (2,2,3))\n",
    "print(\"\\nreshapedArray...\\n\", reshapedArray)\n",
    "# Unpack the array tuples from the above 'reshapedArray' into 4 well named variables. Print the 4 variables.\n",
    "a, b = c, d = reshapedArray\n",
    "print(\"a = \", a)\n",
    "print(\"b = \", b)\n",
    "print(\"c = \", c)\n",
    "print(\"d = \", d)\n",
    "\n",
    " \n"
   ]
  },
  {
   "cell_type": "code",
   "execution_count": 37,
   "metadata": {},
   "outputs": [
    {
     "name": "stdout",
     "output_type": "stream",
     "text": [
      "[10 11 12 13 14 15 16 17 20 21 22 23 24 25 26 27  0  1  2  3  4  5  6  7]\n",
      "\n",
      "comboArray ...\n",
      " [ 0  1  2  3  4  5  6  7 10 11 12 13 14 15 16 17 20 21 22 23 24 25 26 27]\n",
      "1\n",
      "[ 2  3  4  5  6  7 10 11 12 13 14 15 16 17 20 21 22 23 24 25 26 27]\n",
      "[ 3  4  5  6  7 10 11 12 13 14 15 16]\n",
      "[22 23 24 25 26 27]\n",
      "[ 0  1  2  3  4  5  6  7 10 11 12 13 14 15]\n",
      "[20 22 24 26]\n",
      "[27 22 15 10  3]\n"
     ]
    }
   ],
   "source": [
    "# Combined and sort the following arrays into one called 'comboArray' ...\n",
    "\n",
    "import numpy as np\n",
    "# create 3 variables to store arrays in\n",
    "one = np.array([10, 11, 12, 13, 14, 15, 16, 17])\n",
    "two = np.array([20, 21, 22, 23, 24, 25, 26, 27])\n",
    "three = np.array([0, 1, 2, 3, 4, 5, 6, 7])\n",
    "# concatenate arrays\n",
    "comboArray2 = np.concatenate((one, two, three))\n",
    "print(comboArray2)\n",
    "comboArray = np.sort(comboArray2)\n",
    "print(\"\\ncomboArray ...\\n\", comboArray)\n",
    "# print sec1 - the 2nd element\n",
    "print(comboArray[1])\n",
    "# print sec2 - all elements from the 3rd element to the last\n",
    "print(comboArray[2:26])\n",
    "# print sec3 - all elements from the 4th to the 14th elements\n",
    "print(comboArray[3:15])\n",
    "# print sec4 - the last 6 elements\n",
    "print(comboArray[18:26])\n",
    "# print sec5 - all element from #0 up to and including #15, using the negative number method, i.e. taking a section from the end.\n",
    "print(comboArray[-24:-10])\n",
    "# print sec6 - from #20 every even element to the end\n",
    "print(comboArray[16:25:2])\n",
    "# print sec7 - from the last element moving forward, every 5th element.\n",
    "print(comboArray[-1:1:-5])"
   ]
  },
  {
   "cell_type": "code",
   "execution_count": 47,
   "metadata": {},
   "outputs": [
    {
     "name": "stdout",
     "output_type": "stream",
     "text": [
      "[[[-17.   -70.   -10.6 ]\n",
      "  [ -7.   -59.7   -0.69]]\n",
      "\n",
      " [[  3.   -49.98   9.4 ]\n",
      "  [ 13.   -39.    19.6 ]]\n",
      "\n",
      " [[ 23.4  -46.    29.3 ]\n",
      "  [ -2.   -54.5   14.8 ]]]\n"
     ]
    }
   ],
   "source": [
    "# Use the NumPy Arithmetic functions to do the subtraction of the above two arrays in pont #7.\n",
    "import numpy as np   \n",
    "arr1 = np.array([[[ 0.0,  0.0,  0.10], [10.0, 10.30, 10.01]],\n",
    "        [[20.0, 20.02, 20.10], [30.0, 31.0, 30.30]],\n",
    "        [[40.40, 24.0, 40.0], [15.0, 15.5, 25.5]]])\n",
    "\n",
    "arr2 = np.array([[17.0, 70.0, 10.7]])\n",
    "arr3 = np.subtract(arr1, arr2)\n",
    "print(arr3)"
   ]
  },
  {
   "cell_type": "code",
   "execution_count": 68,
   "metadata": {},
   "outputs": [
    {
     "name": "stdout",
     "output_type": "stream",
     "text": [
      "  ingredients quantity   unit\n",
      "0        ----     ----   ----\n",
      "1       flour        4   cups\n",
      "2        milk        1    cup\n",
      "3        eggs        2  large\n",
      "4        spam        1    can\n"
     ]
    }
   ],
   "source": [
    "# Using Series, create a DataFrame that looks like this:\n",
    "import pandas as pd\n",
    "# create variables for each column\n",
    "ingredients = pd.Series([\"----\", \"flour\", \"milk\", \"eggs\", \"spam\"], name= 'ingredients')\n",
    "quantity = pd.Series([\"----\", 4, 1, 2, 1], name= 'quantity')\n",
    "unit = pd.Series([\"----\", \"cups\", \"cup\", \"large\", \"can\"], name= 'unit')\n",
    "\n",
    "# concatenate 3 series into dataframe\n",
    "df = pd.concat([ingredients, quantity, unit], axis=1)\n",
    "print(df)\n",
    "\n",
    "                         \n"
   ]
  },
  {
   "cell_type": "code",
   "execution_count": 66,
   "metadata": {},
   "outputs": [
    {
     "name": "stdout",
     "output_type": "stream",
     "text": [
      "      Name  Height Qualification  address  Age        Pets           sport\n",
      "0      Jai     5.1           Msc    Delhi   21         Dog           Darts\n",
      "1  janusha     6.2            MA     Doha   23       Bunny      Basketball\n",
      "2   Gaurav     5.1           Msc  Chennai   24  Chinchilla  PaddleBoarding\n",
      "3     Anuj     5.2           Msc   Dakhar   21      Parrot         Cricket\n",
      "question 22       Name  Height Qualification  address       deserts  Age        Pets   \n",
      "0      Jai     5.1           Msc    Delhi     ice cream   21         Dog  \\\n",
      "1  janusha     6.2            MA     Doha  Cashew Fudge   23       Bunny   \n",
      "2   Gaurav     5.1           Msc  Chennai       waffels   24  Chinchilla   \n",
      "3     Anuj     5.2           Msc   Dakhar  Carrot Halwa   21      Parrot   \n",
      "\n",
      "            sport  \n",
      "0           Darts  \n",
      "1      Basketball  \n",
      "2  PaddleBoarding  \n",
      "3         Cricket  \n",
      "question 23       Name  Height Qualification  address       deserts  Age        Pets   \n",
      "3     Anuj     5.2           Msc   Dakhar  Carrot Halwa   21      Parrot  \\\n",
      "2   Gaurav     5.1           Msc  Chennai       waffels   24  Chinchilla   \n",
      "0      Jai     5.1           Msc    Delhi     ice cream   21         Dog   \n",
      "1  janusha     6.2            MA     Doha  Cashew Fudge   23       Bunny   \n",
      "\n",
      "            sport  \n",
      "3         Cricket  \n",
      "2  PaddleBoarding  \n",
      "0           Darts  \n",
      "1      Basketball  \n"
     ]
    }
   ],
   "source": [
    "# Take this data and create a DataFrame named studentData\n",
    "import pandas as pd\n",
    "\n",
    "data = {'Name': ['Jai', 'janusha', 'Gaurav', 'Anuj'],\n",
    "        'Height': [5.1, 6.2, 5.1, 5.2],\n",
    "        'Qualification': ['Msc', 'MA', 'Msc', 'Msc'],\n",
    "        'address': ['Delhi', 'Doha', 'Chennai', 'Dakhar'],\n",
    "        'Age': [21, 23, 24, 21],\n",
    "        'Pets': ['Dog', 'Bunny', 'Chinchilla', 'Parrot'],\n",
    "        'sport': ['Darts', 'Basketball', 'PaddleBoarding', 'Cricket']\n",
    "    }\n",
    "# convert dictionary into dataframe\n",
    "df = pd.DataFrame(data)\n",
    "print(df)\n",
    "# Add a new column to the DataFrame with the following deserts: [\"ice cream\", \"Cashew Fudge\", \"waffels\", \"Carrot Halwa\"]\n",
    "df.insert(4, \"deserts\", [\"ice cream\", \"Cashew Fudge\", \"waffels\", \"Carrot Halwa\"],True)\n",
    "print(\"question 22\", df)\n",
    "df.sort_values(by= ['Name', 'address'], inplace = True)\n",
    "print(\"question 23\", df)"
   ]
  },
  {
   "cell_type": "code",
   "execution_count": 67,
   "metadata": {},
   "outputs": [],
   "source": [
    "df = pd.DataFrame({'Cows': [12, 20], 'Goats': [22, 19]}, index=['Year 1', 'Year 2'])\n",
    "df.to_csv(\"cow_and_goats.csv\")"
   ]
  },
  {
   "cell_type": "code",
   "execution_count": 71,
   "metadata": {},
   "outputs": [
    {
     "name": "stdout",
     "output_type": "stream",
     "text": [
      "  vegetables       color\n",
      "0    carrots      orange\n",
      "1     celery       green\n",
      "2    spinach  dark green\n"
     ]
    }
   ],
   "source": [
    "# (A) Using Pandas, make your own .CSV file with data on vegetables and save it. (B) Using Pandas, make a change to your CSV file, and save a copy with a different name.\n",
    "veg = pd.Series([\"carrots\", \"celery\", \"spinach\"], name= \"vegetables\")\n",
    "veg_fact = pd.Series([\"orange\", \"green\", \"dark green\"], name= \"color\")\n",
    "# concat both series into a dataframe\n",
    "df = pd.concat([veg,veg_fact], axis=1)\n",
    "print(df)\n",
    "df.to_csv(\"Rodneyvege.csv\")\n",
    "# (B) Using Pandas, make a change to your CSV file, and save a copy with a different name.\n",
    "newveg = pd.read_csv(\"Rodneyvege.csv\")\n",
    "newveg.sort_values(by=[\"vegetables\"], inplace=True)\n",
    "newveg.to_csv(\"Rodneynewveg.csv\")\n"
   ]
  }
 ],
 "metadata": {
  "kernelspec": {
   "display_name": "Python 3",
   "language": "python",
   "name": "python3"
  },
  "language_info": {
   "codemirror_mode": {
    "name": "ipython",
    "version": 3
   },
   "file_extension": ".py",
   "mimetype": "text/x-python",
   "name": "python",
   "nbconvert_exporter": "python",
   "pygments_lexer": "ipython3",
   "version": "3.11.3"
  },
  "orig_nbformat": 4
 },
 "nbformat": 4,
 "nbformat_minor": 2
}
