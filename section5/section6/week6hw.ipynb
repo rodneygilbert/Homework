{
 "cells": [
  {
   "attachments": {},
   "cell_type": "markdown",
   "metadata": {},
   "source": [
    "## 1.Create a definitive problem statement to be solved with data analytics.  \n",
    "### A: How beneficial or harmful has social media been for the mental health of high school students? \n",
    "\n"
   ]
  },
  {
   "attachments": {},
   "cell_type": "markdown",
   "metadata": {},
   "source": [
    "## 2.Provide your datasets.\n",
    "### A:"
   ]
  },
  {
   "attachments": {},
   "cell_type": "markdown",
   "metadata": {},
   "source": [
    "## 3.Describe your plan\n",
    "### A: I intend to use this mental health poll to observe the effects that social media have on the students. I will note if there are other substantial factors that effect the mental health of the students. I will also use this dataset to determine if there are also tools that can aid in the mental health of the students. "
   ]
  }
 ],
 "metadata": {
  "language_info": {
   "name": "python"
  },
  "orig_nbformat": 4
 },
 "nbformat": 4,
 "nbformat_minor": 2
}
