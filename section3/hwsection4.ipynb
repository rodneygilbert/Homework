{
 "cells": [
  {
   "cell_type": "code",
   "execution_count": 2,
   "metadata": {},
   "outputs": [
    {
     "name": "stdout",
     "output_type": "stream",
     "text": [
      "Renting a car is more affordable.\n"
     ]
    }
   ],
   "source": [
    "# Create an if statement: if 'age' is greater than or equal to 25, print \"Renting a car is more affordable\", however if 'age' is less than 25, print \"Renting a car is very expensive.\"\n",
    "age = 31\n",
    "if age >= 25:\n",
    "    print(\"Renting a car is more affordable.\")\n",
    "else:\n",
    "    print(\"Renting a car is very expensive.\")\n"
   ]
  },
  {
   "cell_type": "code",
   "execution_count": 1,
   "metadata": {},
   "outputs": [
    {
     "name": "stdout",
     "output_type": "stream",
     "text": [
      "You cannot legally rent a car.\n"
     ]
    }
   ],
   "source": [
    "# Create and chain an if-else statement: if 'age' is greater than or equal to 25, print \"Renting a car is more affordable.\" If 'age' is less than 25 but greater than or equal to 18, print \"Renting a car is very expensive.\" Finally, if age is less than 18, print \"You cannot legally rent a car.\"\n",
    "age = 17\n",
    "if age >= 25:\n",
    "    print(\"Renting a care is more affordable.\")\n",
    "elif age >=18:\n",
    "     print(\"Renting a car is very expensive\")\n",
    "elif age < 18:\n",
    "    print(\"You cannot legally rent a car.\")\n"
   ]
  },
  {
   "cell_type": "code",
   "execution_count": 3,
   "metadata": {},
   "outputs": [
    {
     "name": "stdout",
     "output_type": "stream",
     "text": [
      "11\n",
      "['e', 'u', 'i', 'o', 'o', 'u', 'o', 'e', 'e', 'a', 'o']\n"
     ]
    }
   ],
   "source": [
    "# Loop over the following string to (1) count all the characters in the string and (2) print out all the vowels -- \"The quick brown fox jumps over the lazy dog\"\n",
    "# create variable for string\n",
    "loop1 = \"The quick brown fox jumps over the lazy dog\"\n",
    "vowels = (\"e\", \"u\", \"o\", \"a\", \"i\")\n",
    "vc = 0\n",
    "vs = []\n",
    "for char in loop1:\n",
    "    if char in vowels:\n",
    "        vc = vc+1\n",
    "        vs.append(char)\n",
    "print(vc)\n",
    "print(vs)\n",
    "    "
   ]
  },
  {
   "cell_type": "code",
   "execution_count": 9,
   "metadata": {},
   "outputs": [
    {
     "name": "stdout",
     "output_type": "stream",
     "text": [
      "trousers Dark Sapphire\n",
      "trousers aqua\n",
      "trousers maple\n",
      "trousers burnt sienna\n",
      "trousers fuchsia\n",
      "trousers auburn\n",
      "trousers gunmetal blue\n",
      "trousers cerise\n",
      "blouse Dark Sapphire\n",
      "blouse aqua\n",
      "blouse maple\n",
      "blouse burnt sienna\n",
      "blouse fuchsia\n",
      "blouse auburn\n",
      "blouse gunmetal blue\n",
      "blouse cerise\n",
      "bandana Dark Sapphire\n",
      "bandana aqua\n",
      "bandana maple\n",
      "bandana burnt sienna\n",
      "bandana fuchsia\n",
      "bandana auburn\n",
      "bandana gunmetal blue\n",
      "bandana cerise\n",
      "cumber band Dark Sapphire\n",
      "cumber band aqua\n",
      "cumber band maple\n",
      "cumber band burnt sienna\n",
      "cumber band fuchsia\n",
      "cumber band auburn\n",
      "cumber band gunmetal blue\n",
      "cumber band cerise\n",
      "blazer Dark Sapphire\n",
      "blazer aqua\n",
      "blazer maple\n",
      "blazer burnt sienna\n",
      "blazer fuchsia\n",
      "blazer auburn\n",
      "blazer gunmetal blue\n",
      "blazer cerise\n",
      "vest Dark Sapphire\n",
      "vest aqua\n",
      "vest maple\n",
      "vest burnt sienna\n",
      "vest fuchsia\n",
      "vest auburn\n",
      "vest gunmetal blue\n",
      "vest cerise\n",
      "french beret Dark Sapphire\n",
      "french beret aqua\n",
      "french beret maple\n",
      "french beret burnt sienna\n",
      "french beret fuchsia\n",
      "french beret auburn\n",
      "french beret gunmetal blue\n",
      "french beret cerise\n",
      "scarf Dark Sapphire\n",
      "scarf aqua\n",
      "scarf maple\n",
      "scarf burnt sienna\n",
      "scarf fuchsia\n",
      "scarf auburn\n",
      "scarf gunmetal blue\n",
      "scarf cerise\n",
      "stole Dark Sapphire\n",
      "stole aqua\n",
      "stole maple\n",
      "stole burnt sienna\n",
      "stole fuchsia\n",
      "stole auburn\n",
      "stole gunmetal blue\n",
      "stole cerise\n"
     ]
    }
   ],
   "source": [
    "courture_list = [\"trousers\", \"blouse\", \"bandana\", \"cumber band\", \"blazer\", \"vest\", \"french beret\", \"scarf\", \"stole\"]\n",
    "panettone_set = {\"cerise\", \"fuchsia\", \"aqua\", \"maple\", \"auburn\", \"burnt sienna\", \"gunmetal blue\", \"Dark Sapphire\"}\n",
    "for x in courture_list:\n",
    "    for y in panettone_set:\n",
    "        print(x,y)\n"
   ]
  },
  {
   "cell_type": "code",
   "execution_count": 1,
   "metadata": {},
   "outputs": [
    {
     "name": "stdout",
     "output_type": "stream",
     "text": [
      "5050\n"
     ]
    }
   ],
   "source": [
    "count = range(101)\n",
    "total = 0\n",
    "for num in count:\n",
    "    total = total + num\n",
    "print(total)"
   ]
  },
  {
   "cell_type": "code",
   "execution_count": 6,
   "metadata": {},
   "outputs": [
    {
     "name": "stdout",
     "output_type": "stream",
     "text": [
      "banana\n"
     ]
    }
   ],
   "source": [
    "# Print the second item in this fruits list. [\"apple\", \"banana\", \"cherry\"]\n",
    "fruitslist = [\"apple\", \"banana\", \"cherry\"]\n",
    "print(fruitslist[1])"
   ]
  },
  {
   "cell_type": "code",
   "execution_count": 11,
   "metadata": {},
   "outputs": [
    {
     "name": "stdout",
     "output_type": "stream",
     "text": [
      "['kiwi', 'banana', 'cherry']\n"
     ]
    }
   ],
   "source": [
    "# Change the value from \"apple\" to \"kiwi\", in the fruits list. [\"apple\", \"banana\", \"cherry\"]\n",
    "fruitslist[0] = \"kiwi\"\n",
    "# print(fruitslist)"
   ]
  },
  {
   "cell_type": "code",
   "execution_count": 12,
   "metadata": {},
   "outputs": [
    {
     "name": "stdout",
     "output_type": "stream",
     "text": [
      "['kiwi', 'banana', 'cherry', 'orange']\n"
     ]
    }
   ],
   "source": [
    "# Use the append method to add \"orange\" to the fruits list. [\"apple\", \"banana\", \"cherry\"]\n",
    "fruitslist.append(\"orange\")\n",
    "# print(fruitslist)\n"
   ]
  },
  {
   "cell_type": "code",
   "execution_count": 14,
   "metadata": {},
   "outputs": [
    {
     "name": "stdout",
     "output_type": "stream",
     "text": [
      "['kiwi', 'lemon', 'banana', 'banana', 'cherry', 'orange']\n"
     ]
    }
   ],
   "source": [
    "# Use the insert method to add \"lemon\" as the second item in the fruits list. [\"apple\", \"banana\", \"cherry\"]\n",
    "fruitslist.insert(1, \"lemon\")\n",
    "print(fruitslist)\n"
   ]
  },
  {
   "cell_type": "code",
   "execution_count": 31,
   "metadata": {},
   "outputs": [
    {
     "name": "stdout",
     "output_type": "stream",
     "text": [
      "['apple', 'cherry']\n"
     ]
    }
   ],
   "source": [
    "# Use the remove method to remove \"banana\" from the fruits list. [\"apple\", \"banana\", \"cherry\"]\n",
    "fruitylist = [\"apple\", \"banana\", \"cherry\"]\n",
    "# print(fruitylist)\n",
    "# create for loop to check for each item for \"banana\"\n",
    "for item in fruitylist:\n",
    "    if item == \"banana\":\n",
    "        # use .remove() function to remove banana\n",
    "        fruitylist.remove(item)\n",
    "print(fruitylist)\n",
    "\n",
    "\n",
    "\n"
   ]
  },
  {
   "cell_type": "code",
   "execution_count": 49,
   "metadata": {},
   "outputs": [
    {
     "name": "stdout",
     "output_type": "stream",
     "text": [
      "['kiwi', 'melon']\n"
     ]
    }
   ],
   "source": [
    "# Use negative indexing to print the 3rd and 2nd to last items in the list. [\"apple\", \"banana\", \"cherry\", \"orange\", \"kiwi\", \"melon\", \"mango\"]\n",
    "fruit_list = [\"apple\", \"banana\", \"cherry\", \"orange\", \"kiwi\", \"melon\", \"mango\"]\n",
    "# create new variable for new list to be printed\n",
    "fruit1 = fruit_list[-3:-1]\n",
    "print(fruit1)\n"
   ]
  },
  {
   "cell_type": "code",
   "execution_count": 79,
   "metadata": {},
   "outputs": [
    {
     "name": "stdout",
     "output_type": "stream",
     "text": [
      "['cherry', 'orange', 'kiwi']\n"
     ]
    }
   ],
   "source": [
    "# Use a range of indexes to print the third, fourth, and fifth item in the list. [\"apple\", \"banana\", \"cherry\", \"orange\", \"kiwi\", \"melon\", \"mango\"]\n",
    "print(fruit_list[2:5])\n"
   ]
  },
  {
   "cell_type": "code",
   "execution_count": 81,
   "metadata": {},
   "outputs": [
    {
     "name": "stdout",
     "output_type": "stream",
     "text": [
      "7\n"
     ]
    }
   ],
   "source": [
    "# Use the correct syntax to print the number of items in the list. [\"apple\", \"banana\", \"cherry\", \"orange\", \"kiwi\", \"melon\", \"mango\"]\n",
    "print(len(fruit_list))"
   ]
  },
  {
   "cell_type": "code",
   "execution_count": 74,
   "metadata": {},
   "outputs": [
    {
     "data": {
      "text/plain": [
       "['orange', 'melon', 'mango', 'kiwi', 'cherry', 'banana', 'apple']"
      ]
     },
     "execution_count": 74,
     "metadata": {},
     "output_type": "execute_result"
    }
   ],
   "source": [
    "# Use the correct syntax to sort this list in reverse order [\"apple\", \"banana\", \"cherry\", \"orange\", \"kiwi\", \"melon\", \"mango\"]\n",
    "fruitlist_ = [\"apple\", \"banana\", \"cherry\", \"orange\", \"kiwi\", \"melon\", \"mango\"]\n",
    "sorted(fruitlist_, reverse=True)"
   ]
  },
  {
   "attachments": {},
   "cell_type": "markdown",
   "metadata": {},
   "source": [
    "What does one need to do to use a module?   \n",
    "<!-- A:Import the respective module into a codbase by using import statements  -->\n",
    "Name a Module (not the DateTime Nodule) we looked at and write a line or 2 of code as an example using this module.\n",
    "<!-- A:  -->\n",
    "What is a benefit of using Exception handling?\n",
    "<!-- A: It allows for trial of code block without failure of entire work. It allows one to keep going past many erros while working. -->\n",
    "what are the 4 components used for Python Exception Handling?\n",
    "<!--A: Try, Except, Else, Finally -->\n",
    "NumPy arrays are like what Python data type?\n",
    "<!--A: Lists  -->\n",
    "What is one of the main benefits of using NumPy arrays.\n",
    "<!-- A: Access to high-level funcitioning tools for working with arrays  -->\n",
    "What is one of the main requirements about the 'dtype' of NumPy arrays?\n",
    "<!-- A:using a keyword -->\n",
    "Of the 10 uses of NumPy, name 2.\n",
    "<!-- A: reshape & np.vstack()  -->\n",
    "Name one of the other libraries we'll use with NumPy?\n",
    "<!-- A: the number of elements in each dimension -->\n",
    "What is the shape of NumPy arrays?\n",
    "<!-- A: number of values in each dimension. 2D(x,y) or 3D(x,x,x). -->\n",
    "What is a Tensor?\n",
    "<!-- A: an array with 3+ dimensions -->\n",
    "Name a reason why it's better using NumPy for Data Analysis than using a Python List?\n",
    "<!-- A: It occupies less memory than a list does -->\n",
    "When creating an \"empty\" array, where do the elements come from?\n",
    "<!-- A: the state of the memory -->"
   ]
  },
  {
   "cell_type": "code",
   "execution_count": 83,
   "metadata": {},
   "outputs": [
    {
     "name": "stdout",
     "output_type": "stream",
     "text": [
      "month: 5\n"
     ]
    }
   ],
   "source": [
    "#Use the DateTime module to get Current Date and Time, and save it to a variable. Then extract just the Full month name form that variable.\n",
    "from datetime import date\n",
    "today = date.today\n",
    "# print(\"today is \", today)\n",
    "print(\"month:\", today.month)"
   ]
  },
  {
   "cell_type": "code",
   "execution_count": 98,
   "metadata": {},
   "outputs": [
    {
     "name": "stdout",
     "output_type": "stream",
     "text": [
      "hi rodney\n",
      "happy sunday\n"
     ]
    }
   ],
   "source": [
    "# Write a simple function that takes 2 parameters -- a first name and a day name\n",
    "def printInfo( firstname, dayname = \"Sunday\" ):\n",
    "# Have the function print out a greeting -- using the parameters -- that says something like \"Hi first-name! Happy day-name!\". Remember to use the variables in the greeting to replace first-name and day-name.\n",
    "    print(\"hi\", firstname)\n",
    "    print(\"happy\", dayname)\n",
    "# Invoke this function with 2 variables.\n",
    "printInfo(firstname=\"rodney\", dayname=\"sunday\")\n",
    "printInfo()"
   ]
  },
  {
   "cell_type": "code",
   "execution_count": 101,
   "metadata": {},
   "outputs": [
    {
     "name": "stdout",
     "output_type": "stream",
     "text": [
      "your car is young\n",
      "appreciate you\n"
     ]
    }
   ],
   "source": [
    "a = input(\"how old is you car\")\n",
    "try:\n",
    "    age >= int(a)\n",
    "    if age >= 10:\n",
    "        print(\"your car is young\")\n",
    "    else:\n",
    "        age >= 15\n",
    "        print(\"your car is old\")\n",
    "except:\n",
    "    print(\"enter a number 18 or greater\")\n",
    "finally:\n",
    "    print(\"appreciate you\")\n"
   ]
  }
 ],
 "metadata": {
  "kernelspec": {
   "display_name": "Python 3",
   "language": "python",
   "name": "python3"
  },
  "language_info": {
   "codemirror_mode": {
    "name": "ipython",
    "version": 3
   },
   "file_extension": ".py",
   "mimetype": "text/x-python",
   "name": "python",
   "nbconvert_exporter": "python",
   "pygments_lexer": "ipython3",
   "version": "3.11.3"
  },
  "orig_nbformat": 4
 },
 "nbformat": 4,
 "nbformat_minor": 2
}
