{
 "cells": [
  {
   "attachments": {},
   "cell_type": "markdown",
   "metadata": {},
   "source": [
    "1. An algorithm is a series of steps to solve a problem at hand\n",
    "2. Two characters that variables cannot start with: a number or any other special character other than _.\n",
    "3. Semantic error is when the code is grammatically correct but doesn't make any sense; it does not produce the expected results.\n",
    "4. The number rule is complexity is the enemy of effeciency.\n",
    "5. 5 python reserved words: 1.False 2.True 3.Pass 4. yield \n"
   ]
  },
  {
   "cell_type": "code",
   "execution_count": null,
   "metadata": {},
   "outputs": [],
   "source": [
    "#Rodney Gilbert\n",
    "#Pizza\n",
    "#Recording artist"
   ]
  },
  {
   "cell_type": "code",
   "execution_count": 4,
   "metadata": {},
   "outputs": [
    {
     "name": "stdout",
     "output_type": "stream",
     "text": [
      "5\n",
      "y\n"
     ]
    }
   ],
   "source": [
    "# Assign 5 diff. data types to 5 diff variables\n",
    "A = 3.0 #float\n",
    "B = 3 #interger\n",
    "C = (\"lions\", \"tigers\", \"bears\") #tuple\n",
    "D = [\"yellow\", \"orange\", \"brown\"]\n",
    "E = \"oh my\" #string\n",
    "# Print the length of string\n",
    "print(len(E))\n",
    "# print index value of 4th character in string\n",
    "print(E[4:5])\n"
   ]
  },
  {
   "cell_type": "code",
   "execution_count": 16,
   "metadata": {},
   "outputs": [
    {
     "name": "stdout",
     "output_type": "stream",
     "text": [
      "ing data analytics\n",
      "Learning data analytics and Python is Awsome!\n",
      "python is in savvy\n"
     ]
    }
   ],
   "source": [
    "# Create a new variable called savvy, and assign it the string with this phrase \"Learning Data Analytics and Python is Awesome!\n",
    "savvy = \"Learning data analytics and Python is Awsome!\"\n",
    "print(savvy[5:23])\n",
    "savvy2 = savvy.replace (\"Awesome\", \"great\") #idk why awsome did not replace\n",
    "# checking if python is in savvy string\n",
    "print (savvy2)\n",
    "if \"Python\" in savvy:\n",
    "    print(\"python is in savvy\")\n",
    "else:\n",
    "    print(\"python is not in savvy\")"
   ]
  },
  {
   "cell_type": "code",
   "execution_count": 20,
   "metadata": {},
   "outputs": [
    {
     "name": "stdout",
     "output_type": "stream",
     "text": [
      "Hi my name is Rodney, I am 74 inches tall, and 31 years old today.\n",
      "31.0\n"
     ]
    }
   ],
   "source": [
    "# Create and assign 3 more variables called name, age and length using the multi-variable naming method\n",
    "name, age, length = \"Rodney\", \"31\", \"74\" # assigned multiple variables\n",
    "miniBio = f\"Hi my name is {name}, I am {length} inches tall, and {age} years old today.\"\n",
    "print(miniBio)\n",
    "# cast and print age variable to a float\n",
    "age2 = float(age)\n",
    "print(age2)"
   ]
  },
  {
   "cell_type": "code",
   "execution_count": 7,
   "metadata": {},
   "outputs": [
    {
     "name": "stdout",
     "output_type": "stream",
     "text": [
      "8\n",
      "[['number', 3.1, ['a', 'b', 'c', 'd'], True, 3.0]]\n",
      "[5, 4, 3, 2, 1]\n",
      "[['number', 3.1, ['a', 'b', 'c', 'd'], True, 3.0], 5, 4, 3, 2, 1]\n"
     ]
    }
   ],
   "source": [
    "# Create a list of at least 5 elements of mixed data types\n",
    "import copy\n",
    "list1 = [3,\"number\", 3.1, [\"a\",\"b\",\"c\",\"d\"], True]\n",
    "list1[0] = (5) # replace part of it with something else\n",
    "# print(list1) \n",
    "list1.append(3.0)\n",
    "list1.append(3.5)\n",
    "list1.append(\"blue\")\n",
    "# print(list1)\n",
    "print(len(list1))#print length of list\n",
    "list2 = [list1[1:6]] #slice subsection of 1st list. create 2nd list\n",
    "print(list2)\n",
    "list1.extend(list2)\n",
    "# print(list1)\n",
    "# create new list called \"simList\"\n",
    "simList = [1, 2, 3, 4, 5]\n",
    "# sort list.(was already in sequential order so I reversed to sort.)\n",
    "simList.sort(reverse=True)\n",
    "print(simList)\n",
    "list3 = simList.copy()\n",
    "# print(list3)\n",
    "list4 = list2 + list3 \n",
    "print(list4)"
   ]
  },
  {
   "cell_type": "code",
   "execution_count": 16,
   "metadata": {},
   "outputs": [
    {
     "name": "stdout",
     "output_type": "stream",
     "text": [
      "(1, 2, 3, 4, 5, 1, 2, 3, 4, 5, 1, 2, 3, 4, 5)\n",
      "2\n",
      "[1, 1, 1, 2, 2, 2, 3, 3, 3, 4, 4, 4, 5, 5, 5]\n",
      "1 1 1 2\n",
      "(50,)\n",
      "[1, 1, 1, 2, 2, 2, 3, 3, 3, 4, 4, 4, 5, 5, 5, 1, 1, 1, 2]\n"
     ]
    }
   ],
   "source": [
    "# Create a tuple of about 5 elements\n",
    "tuple1 = (1, 2, 3, 4, 5)\n",
    "tuple2 = (tuple1 * 3) #multiply tuple by 3 and save as 2nd tuple\n",
    "print(tuple2)\n",
    "print(tuple2[11])\n",
    "T2 = sorted(tuple2)\n",
    "print(T2)\n",
    "tuple3 = copy.deepcopy(T2[:4])\n",
    "# print(tuple3)\n",
    "(a,b,c,d) = tuple3 #unpack 3 tuple into 4 variables and print\n",
    "print(a,b,c,d)\n",
    "# Create a 4th tuple with single item 50 and print this tuple\n",
    "tuple4 = (50,)\n",
    "print(tuple4)\n",
    "# Add the 2nd and 3rd tuple together into a 5th tuple and print the tuple\n",
    "tuple5 = (T2 + tuple3)\n",
    "print(tuple5)"
   ]
  },
  {
   "cell_type": "code",
   "execution_count": 26,
   "metadata": {},
   "outputs": [
    {
     "name": "stdout",
     "output_type": "stream",
     "text": [
      "{'orange', 'kiwi', 'apple', 'c', 'b', 'a'}\n",
      "{'pigeon', 'teacup'}\n",
      "set()\n",
      "{'nissan', 'kiwi', 'orange', 'baseball', 'apple', 'c', 'b', 'a', 'teacup', 'pigeon'}\n",
      "{'kiwi', 'orange', 'baseball', 'apple', 'c', 'b', 'a', 'teacup', 'pigeon'}\n",
      "{'kiwi', 'orange', 'baseball', 'apple', 'c', 'b', 'a', 'pigeon'}\n"
     ]
    }
   ],
   "source": [
    "# Create a set of about 3 elements\n",
    "set1 = {\"a\", \"b\", \"c\"}\n",
    "# Add a list of fruits to the above set and print the result\n",
    "fruitlist = [\"apple\",\"orange\", \"kiwi\"]\n",
    "set1.update(fruitlist)\n",
    "print(set1)\n",
    "# Add a car element to your set\n",
    "set1.add(\"nissan\")\n",
    "# print(set1)\n",
    "# Create a 2nd set with a few odd items\n",
    "set2 = {\"baseball\",\"pigeon\",\"teacup\"}\n",
    "set3 = set1.union(set2)\n",
    "# print(set3)\n",
    "# Pop an element from the 2nd set, and print the remainder of the set\n",
    "set2.pop()\n",
    "print(set2)\n",
    "# Pop an element from the 2nd set, and print the remainder of the set\n",
    "set1.clear()\n",
    "print(set1)#clear the 1st set and print the result\n",
    "print(set3)\n",
    "set3.discard(\"nissan\")\n",
    "print(set3)\n",
    "set3.remove(\"teacup\")\n",
    "print(set3)#Print the remainder of the 3rd set\n",
    "\n",
    "\n"
   ]
  },
  {
   "cell_type": "code",
   "execution_count": 36,
   "metadata": {},
   "outputs": [
    {
     "name": "stdout",
     "output_type": "stream",
     "text": [
      "thursday\n",
      "{'day': 'Rodney', 'time': '0545', 'place': 'rex', 'country': 'america', 'color': 'red', 'list1': {'c', 'b', 'a'}}\n",
      "dict_keys(['day', 'time', 'place', 'country', 'color', 'list1'])\n",
      "dict_values(['Rodney', '0545', 'rex', 'america', 'red', {'c', 'b', 'a'}])\n",
      "{'time': '0545', 'place': 'rex', 'country': 'america', 'color': 'red', 'list1': {'c', 'b', 'a'}}\n",
      "{}\n"
     ]
    }
   ],
   "source": [
    "# Create a dictionary with at least 5 values of different data types\n",
    "dict1 = {\n",
    "    \"day\":\"thursday\",\n",
    "    \"time\":\"0545\",\n",
    "    \"place\":\"rex\",\n",
    "    \"country\":\"america\",\n",
    "    \"color\":\"blue\"\n",
    "\n",
    "}\n",
    "# Print out 1 value\n",
    "print(dict1[\"day\"])\n",
    "# Replace any one value in your dictionary with your name\n",
    "dict1.update({\"day\":\"Rodney\"})\n",
    "# print(dict1)\n",
    "dict1[\"color\"]=\"red\"\n",
    "# print(dict1)\n",
    "dict1[\"list1\"]= {\"a\",\"b\",\"c\"}\n",
    "print(dict1)\n",
    "print(dict1.keys())# print list of dictionary keys\n",
    "print(dict1.values())#print list of dictinary values\n",
    "dict2 = copy.deepcopy(dict1)\n",
    "# Copy your 1st dictionary into a 2nd dictionary\n",
    "# print(dict2)\n",
    "# Pop an item from the 2nd dictionary, and print the dictionary\n",
    "dict2.pop(\"day\")\n",
    "print(dict2)\n",
    "dict2.clear()\n",
    "print(dict2)"
   ]
  }
 ],
 "metadata": {
  "kernelspec": {
   "display_name": "Python 3",
   "language": "python",
   "name": "python3"
  },
  "language_info": {
   "codemirror_mode": {
    "name": "ipython",
    "version": 3
   },
   "file_extension": ".py",
   "mimetype": "text/x-python",
   "name": "python",
   "nbconvert_exporter": "python",
   "pygments_lexer": "ipython3",
   "version": "3.11.3"
  },
  "orig_nbformat": 4
 },
 "nbformat": 4,
 "nbformat_minor": 2
}
