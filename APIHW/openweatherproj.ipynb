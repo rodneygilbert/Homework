{
 "cells": [
  {
   "cell_type": "code",
   "execution_count": 8,
   "metadata": {},
   "outputs": [
    {
     "name": "stdout",
     "output_type": "stream",
     "text": [
      "{'coord': {'lon': -84.388, 'lat': 33.749}, 'weather': [{'id': 804, 'main': 'Clouds', 'description': 'overcast clouds', 'icon': '04d'}], 'base': 'stations', 'main': {'temp': 296.04, 'feels_like': 296.63, 'temp_min': 294.69, 'temp_max': 297.67, 'pressure': 1012, 'humidity': 86}, 'visibility': 10000, 'wind': {'speed': 4.12, 'deg': 170}, 'clouds': {'all': 100}, 'dt': 1687191407, 'sys': {'type': 2, 'id': 2006620, 'country': 'US', 'sunrise': 1687170420, 'sunset': 1687222243}, 'timezone': -14400, 'id': 4180439, 'name': 'Atlanta', 'cod': 200}\n",
      "Please fix your request. Error response\n"
     ]
    }
   ],
   "source": [
    "import dotenv\n",
    "import requests\n",
    "import json\n",
    "import os\n",
    "from dotenv import load_dotenv\n",
    "\n",
    "load_dotenv(dotenv_path='/Users/rodne/Code/SavvyCoders/dap-curriculum/Section08/config.env')\n",
    "API_KEY=os.getenv('API_KEY')\n",
    "# print(API_KEY)\n",
    "try:\n",
    "    response=requests.get(f\"http://api.openweathermap.org/data/2.5/weather?q=Atlanta&appid={API_KEY}\")\n",
    "    if response.status_code==200:\n",
    "        data = response.json()\n",
    "        print(data)\n",
    "    else:\n",
    "        print(f\"request failed. Failure code:\", response.status_code)\n",
    "except:requests.exceptions.RequestException \n",
    "print('Please fix your request. Error response')\n"
   ]
  }
 ],
 "metadata": {
  "kernelspec": {
   "display_name": "Python 3",
   "language": "python",
   "name": "python3"
  },
  "language_info": {
   "codemirror_mode": {
    "name": "ipython",
    "version": 3
   },
   "file_extension": ".py",
   "mimetype": "text/x-python",
   "name": "python",
   "nbconvert_exporter": "python",
   "pygments_lexer": "ipython3",
   "version": "3.11.3"
  },
  "orig_nbformat": 4
 },
 "nbformat": 4,
 "nbformat_minor": 2
}
