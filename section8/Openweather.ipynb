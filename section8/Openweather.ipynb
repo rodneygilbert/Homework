{
 "cells": [
  {
   "cell_type": "code",
   "execution_count": 7,
   "metadata": {},
   "outputs": [
    {
     "name": "stdout",
     "output_type": "stream",
     "text": [
      "None\n"
     ]
    }
   ],
   "source": [
    "import dotenv\n",
    "import requests\n",
    "import json\n",
    "import os\n",
    "from dotenv import load_dotenv\n",
    "load_dotenv\n",
    "# os.getenv()\n",
    "API_KEY=os.getenv('API_KEY')\n",
    "print(API_KEY)\n",
    "# data_pull_request = requests.get('http://api.openweathermap.org/data/2.5/weather?q=Houston&appid=' + API_KEY)\n",
    "# print(data_pull_request)\n",
    "# try:\n",
    "#     response=requests.get()\n",
    "#     print(response.)\n",
    "# except:requests.exceptions.RequestException as error:\n",
    "\n",
    "# Choose a specific location for which you want to retrieve weather information. You can specify the location using city name, coordinates, or OpenWeatherMap's unique city ID.\n",
    "\n",
    "# Construct the API request URL to fetch the current weather data for the chosen location. Include your API key as a query parameter in the URL.\n",
    "\n",
    "# Make an API request to the OpenWeatherMap API using requests.get() and the constructed URL\n",
    "\n",
    "# Handle any potential errors that may occur during the API request using try/except blocks.\n",
    "\n",
    "# Extract the relevant weather information from the API response, such as the current temperature, humidity, and weather description.\n",
    "\n",
    "# Format and display the retrieved weather information in a user-friendly way. You can print it to the console or use a graphical interface if you prefer.\n",
    "\n",
    "# Run your Python script and test it by retrieving weather information for the chosen location.\n",
    "\n",
    "# Enhance your project by adding more features, such as handling multiple locations, displaying weather icons, providing weather forecasts, or incorporating data visualization."
   ]
  }
 ],
 "metadata": {
  "kernelspec": {
   "display_name": "Python 3",
   "language": "python",
   "name": "python3"
  },
  "language_info": {
   "codemirror_mode": {
    "name": "ipython",
    "version": 3
   },
   "file_extension": ".py",
   "mimetype": "text/x-python",
   "name": "python",
   "nbconvert_exporter": "python",
   "pygments_lexer": "ipython3",
   "version": "3.11.3"
  },
  "orig_nbformat": 4
 },
 "nbformat": 4,
 "nbformat_minor": 2
}
