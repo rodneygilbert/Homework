{
 "cells": [
  {
   "attachments": {},
   "cell_type": "markdown",
   "metadata": {},
   "source": [
    "7.1 HW Questions\n",
    "Using EVregistry, Write a query to select the ModelYear, Make, and Model off all of the vehicles in the registry.\n",
    "Using the EVRegistry table, Write a query that lists all of the unique types of EV's. your reult set should have one column, ElectricVehicleType.\n",
    "Using the EVRegistry, Write a query that shows all of the information on Battery Electric Vehicles (BEV) that are in the registry.\n",
    "Using the EVRegistry, wirte a query that returns the Make and Model of all of the EV's that have a BaseMSRP between 20000 and 35000?"
   ]
  },
  {
   "attachments": {},
   "cell_type": "markdown",
   "metadata": {},
   "source": [
    "QUESTION (1):\n",
    "Using EVregistry, Write a query to select the ModelYear, Make, and Model off all of the vehicles in the registry.\n",
    "ANSWER: \n",
    "SELECT ModelYear, Make, AND Model\n",
    "FROM EVRegistry\t "
   ]
  },
  {
   "attachments": {},
   "cell_type": "markdown",
   "metadata": {},
   "source": [
    "QUESTION (2)\n",
    "Using the EVRegistry table, Write a query that lists all of the unique types of EV's. your reult set should have one column, ElectricVehicleType.\n",
    "ANSWER:\n",
    "SELECT DISTINCT ElectricVehicleType\n",
    "FROM EVRegistry"
   ]
  },
  {
   "attachments": {},
   "cell_type": "markdown",
   "metadata": {},
   "source": [
    "QUESTION (3)\n",
    "Using the EVRegistry, Write a query that shows all of the information on Battery Electric Vehicles (BEV) that are in the registry.\n",
    "ANSWER:\n",
    "SELECT *\n",
    "FROM EVRegistry\n",
    "WHERE '%BEV%'"
   ]
  },
  {
   "attachments": {},
   "cell_type": "markdown",
   "metadata": {},
   "source": [
    "QUESTION (4)\n",
    "Using the EVRegistry, wirte a query that returns the Make and Model of all of the EV's that have a BaseMSRP between 20000 and 35000?\n",
    "ANSWER:\n",
    "SELECT Make, Model\n",
    "FROM EVRegistry\n",
    "WHERE BaseMSRP > 2000 and BaseMSRP < 3500"
   ]
  },
  {
   "attachments": {},
   "cell_type": "markdown",
   "metadata": {},
   "source": [
    "7.2 HW Questions\n",
    "Using EVRegistry, write a query to find a record where the City attribute is NULL. Return all of the available columns.\n",
    "Write a query to find the make, model, and ElectricVehicleType where the VIN number has that ends in '3E1EA1J'.\n",
    "Select the ModelYear, make, model, ElectricVehicleType, and range of the Tesla vehicles or cheverolet vehicles in the registry. Order the result set by Make and Model year in from newest to oldest.\n",
    "Using EVCharging, Write a query to find out how many many times those stations were used. Order them by the most used to the least used and limit the output to 5 records.\n",
    "Using EVCharging, For the folks who charged longer than 0.5 hours, show the min and max of the charging time for each user. Your output columns should be userid, minTime, and maxTime. Order this result set by the last two columns respectively."
   ]
  },
  {
   "attachments": {},
   "cell_type": "markdown",
   "metadata": {},
   "source": [
    "QUESTION (5)\n",
    "Using EVRegistry, write a query to find a record where the City attribute is NULL. Return all of the available columns.\n",
    "ANSWER:\n",
    "SELECT *\n",
    "FROM EVRegistry\n",
    "WHERE City is NULL"
   ]
  },
  {
   "attachments": {},
   "cell_type": "markdown",
   "metadata": {},
   "source": [
    "QUESTION (6)\n",
    "Write a query to find the make, model, and ElectricVehicleType where the VIN number has that ends in '3E1EA1J'.\n",
    "ANSWER:\n",
    "SELECT ModelYear,Make,Model, ElectricVehicleType, ElectricRange\n",
    "FROM EVRegistry\n",
    "WHERE Make AND Model LIKE '3E1EA1J'\n",
    "ORDER BY Make,Model DESC"
   ]
  },
  {
   "attachments": {},
   "cell_type": "markdown",
   "metadata": {},
   "source": [
    "QUESTION(7)\n",
    "Select the ModelYear, make, model, ElectricVehicleType, and range of the Tesla vehicles or cheverolet vehicles in the registry. Order the result set by Make and Model year in from newest to oldest.\n",
    "ANSWER:\n",
    "SELECT ModelYear, Make,Model, ElectricVehicleType, ElectricRange\n",
    "FROM EVRegistry\n",
    "WHERE (Make = 'Tesla' or Make = 'Cheverolet')\n",
    "order by make, ModelYear DESC"
   ]
  },
  {
   "attachments": {},
   "cell_type": "markdown",
   "metadata": {},
   "source": [
    "QUESTION(8)\n",
    "Using EVCharging, Write a query to find out how many many times those stations were used. Order them by the most used to the least used and limit the output to 5 records.\n",
    "ANSWER:\n",
    "SELECT stationId, count(sessionId) as 'NumCharges'\n",
    "FROM EVCharging\n",
    "GROUP by stationId\n",
    "ORDER by sessionId DESC\n",
    "LIMIT 5"
   ]
  },
  {
   "attachments": {},
   "cell_type": "markdown",
   "metadata": {},
   "source": [
    "QUESTION (9)\n",
    "Using EVCharging, For the folks who charged longer than 0.5 hours, show the min and max of the charging time for each user. Your output columns should be userid, minTime, and maxTime. Order this result set by the last two columns respectively.\n",
    "ANSWER:\n",
    "SELECT userId, \n",
    " \tmin (chargeTimeHrs)as 'minTime',\n",
    " \tmax (chargeTimeHrs)as 'maxTime'\n",
    " FROM EVCharging\n",
    " where chargeTimeHrs >0.5 \n",
    " GROUP by userId\n",
    " order by 2,3"
   ]
  },
  {
   "attachments": {},
   "cell_type": "markdown",
   "metadata": {},
   "source": [
    "7.3\n",
    "Using EVCharging, Which day of the week has the highest average charging time? Round the answer to 2 decimal points.\n",
    "Using, EV charging, Find the total power consumed from charging EV's by each User. Return the userId and name the calculated column, totalPower. Round the answer to 2 deciaml points and list the out put in highest to lowest order. Limit the order to the top 15 users.\n",
    "Using dimfacility and factCharge, write a query to find out which type of facility (GROUP BY) has the most amount of charging stations. Return type Facility and name the calculated column numStation. Order the result set from highest to lowest number of charging stations.\n",
    "In your own words, Briefly explain Primary Keys and Foreign Keys.\n",
    "Using EV Charging, For the folks who charged longer than one hour, show the min and max of the charging time for each user. Your output columns should be userid, minTime, and maxTime. Order this result set by the last two columns respectively. HINT: USE HAVING"
   ]
  },
  {
   "attachments": {},
   "cell_type": "markdown",
   "metadata": {},
   "source": [
    "QUESTION (1)\n",
    "Using EVCharging, Which day of the week has the highest average charging time? Round the answer to 2 decimal points.\n",
    "ANSWER:\n",
    "SELECT weekday,\n",
    " round (avg(chargeTimehrs), 2)\n",
    "FROM EVCharging\n",
    "group by 1\n",
    "order by weekday DESC"
   ]
  },
  {
   "attachments": {},
   "cell_type": "markdown",
   "metadata": {},
   "source": [
    "QUESTION(2)\n",
    "Using, EV charging, Find the total power consumed from charging EV's by each User. Return the userId and name the calculated column, totalPower. Round the answer to 2 deciaml points and list the out put in highest to lowest order. Limit the order to the top 15 users.\n",
    "ANSWER:\n",
    "SELECT userId,\n",
    "round (sum(kwhTotal), 2)as 'TotalPower'\n",
    "FROM EVCharging\n",
    "group by userId\n",
    "order by round(sum(kwhTotal), 2) DESC\n",
    "LIMIT 15"
   ]
  },
  {
   "attachments": {},
   "cell_type": "markdown",
   "metadata": {},
   "source": [
    "QUESTION(3)\n",
    "Using dimfacility and factCharge, write a query to find out which type of facility (GROUP BY) has the most amount of charging stations. Return type Facility and name the calculated column numStation. Order the result set from highest to lowest number of charging stations.\n",
    "ANSWER:\n",
    "SELECT \n",
    "\tdf.FacilityKey,\n",
    "\tdf.typeFacility,\n",
    "\tcount(DISTINCT fc.stationId) as 'numStations'\n",
    "from dimFacility df\n",
    "INNER JOIN factCharge fc\n",
    "on\tdf.FacilityKey = fc.facilityID\n",
    "GROUP by df.FacilityKey\n",
    "ORDER by 3 DESC"
   ]
  },
  {
   "attachments": {},
   "cell_type": "markdown",
   "metadata": {},
   "source": [
    "QUESTION(4)\n",
    "In your own words, Briefly explain Primary Keys and Foreign Keys.\n",
    "ANSWER:\n",
    "a primary key is specific to a particular table and assures the value in a specific column is unique.\n",
    "a foreign key is used to build a connection 2 tables."
   ]
  },
  {
   "attachments": {},
   "cell_type": "markdown",
   "metadata": {},
   "source": [
    "QUESTION (5)\n",
    "Using EV Charging, For the folks who charged longer than one hour, show the min and max of the charging time for each user. Your output columns should be userid, minTime, and maxTime. Order this result set by the last two columns respectively. HINT: USE HAVING\n",
    "ANSWER:\n",
    "SELECT userId,\n",
    "max(chargeTimehrs)as 'maxTime',\n",
    "min(chargeTimehrs) as 'minTime'\n",
    "from EVCharging\n",
    "group by userId\n",
    "HAVING min(chargeTimeHrs) > 1\n",
    "order by 2,3"
   ]
  },
  {
   "attachments": {},
   "cell_type": "markdown",
   "metadata": {},
   "source": []
  }
 ],
 "metadata": {
  "language_info": {
   "name": "python"
  },
  "orig_nbformat": 4
 },
 "nbformat": 4,
 "nbformat_minor": 2
}
